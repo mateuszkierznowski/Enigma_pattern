{
 "cells": [
  {
   "cell_type": "code",
   "execution_count": 1,
   "metadata": {},
   "outputs": [],
   "source": [
    "from flickrapi import FlickrAPI"
   ]
  },
  {
   "cell_type": "code",
   "execution_count": 5,
   "metadata": {},
   "outputs": [],
   "source": [
    "key = ''\n",
    "secret = ''"
   ]
  },
  {
   "cell_type": "code",
   "execution_count": 6,
   "metadata": {
    "scrolled": true
   },
   "outputs": [],
   "source": [
    "from flickrapi import FlickrAPI\n",
    "import pandas as pd\n",
    "import sys\n",
    "import csv\n",
    "import requests\n",
    "import os\n",
    "import sys\n",
    "import numpy as np\n",
    "def download_photos(image_tag=True\n",
    "                    ,MAX_COUNT=100):\n",
    "    flickr = FlickrAPI(key, secret)\n",
    "    photos = flickr.walk(text=image_tag,\n",
    "                            tag_mode='all',\n",
    "                            tags=image_tag,\n",
    "                            extras='url_o',\n",
    "                            per_page=50,\n",
    "                            sort='relevance')\n",
    "\n",
    "    url = []\n",
    "    count = 0\n",
    "    urls=[]\n",
    "    for photo in photos:\n",
    "            if count< MAX_COUNT:\n",
    "                count=count+1\n",
    "                print(\"Fetching url for image number {}\".format(count))\n",
    "                url=photo.get('url_o')\n",
    "                print(url)\n",
    "                urls.append(url)\n",
    "            else:\n",
    "                break\n",
    "    urls=pd.Series(urls)\n",
    "    global csv_name\n",
    "    if image_tag == True:\n",
    "        csv_name = \"recent_urls.csv\"\n",
    "    else:\n",
    "        csv_name = image_tag+\"_urls.csv\"\n",
    "    urls.to_csv(csv_name)\n",
    "    \n",
    "    urls=[]\n",
    "    with open(csv_name,newline=\"\") as csvfile:\n",
    "        doc=csv.reader(csvfile,delimiter=\",\")\n",
    "        for row in doc:\n",
    "            if row[1].startswith(\"https\"):\n",
    "                urls.append(row[1])\n",
    "    if not os.path.isdir(os.path.join(os.getcwd(),csv_name.split(\"_\")[0])):\n",
    "        os.mkdir(csv_name.split(\"_\")[0])\n",
    "    for url in enumerate(urls):\n",
    "        try:\n",
    "            resp=requests.get(url[1],stream=True)\n",
    "            path_to_write=os.path.join(os.getcwd(),csv_name.split(\"_\")[0],url[1].split(\"/\")[-1])\n",
    "            outfile=open(path_to_write,'wb')\n",
    "            outfile.write(resp.content)\n",
    "            outfile.close()\n",
    "            print(\"Done downloading {} of {}\".format(url[0]+1,len(urls)))\n",
    "        except:\n",
    "            print(\"Failed to download url number {}\".format(url[0]))\n",
    "    \n"
   ]
  },
  {
   "cell_type": "code",
   "execution_count": null,
   "metadata": {},
   "outputs": [],
   "source": [
    "download_photos('home',25)"
   ]
  }
 ],
 "metadata": {
  "kernelspec": {
   "display_name": "Python 3",
   "language": "python",
   "name": "python3"
  },
  "language_info": {
   "codemirror_mode": {
    "name": "ipython",
    "version": 3
   },
   "file_extension": ".py",
   "mimetype": "text/x-python",
   "name": "python",
   "nbconvert_exporter": "python",
   "pygments_lexer": "ipython3",
   "version": "3.7.3"
  }
 },
 "nbformat": 4,
 "nbformat_minor": 2
}

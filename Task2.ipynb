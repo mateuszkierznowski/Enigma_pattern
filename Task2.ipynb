{
 "cells": [
  {
   "cell_type": "code",
   "execution_count": 1,
   "metadata": {},
   "outputs": [],
   "source": [
    "from flickrapi import FlickrAPI"
   ]
  },
  {
   "cell_type": "code",
   "execution_count": 2,
   "metadata": {},
   "outputs": [],
   "source": [
    "key = 'e16c98ca9475c57152810ae6c9159029'\n",
    "secret = ' 7ac5d312c42673c9 '"
   ]
  },
  {
   "cell_type": "code",
   "execution_count": 3,
   "metadata": {
    "scrolled": true
   },
   "outputs": [],
   "source": [
    "from flickrapi import FlickrAPI\n",
    "import pandas as pd\n",
    "import sys\n",
    "import csv\n",
    "import requests\n",
    "import os\n",
    "import sys\n",
    "import numpy as np\n",
    "def download_photos(image_tag=True\n",
    "                    ,MAX_COUNT=100):\n",
    "    flickr = FlickrAPI(key, secret)\n",
    "    photos = flickr.walk(text=image_tag,\n",
    "                            tag_mode='all',\n",
    "                            tags=image_tag,\n",
    "                            extras='url_o',\n",
    "                            per_page=50,\n",
    "                            sort='relevance')\n",
    "\n",
    "    url = []\n",
    "    count = 0\n",
    "    urls=[]\n",
    "    for photo in photos:\n",
    "            if count< MAX_COUNT:\n",
    "                count=count+1\n",
    "                print(\"Fetching url for image number {}\".format(count))\n",
    "                url=photo.get('url_o')\n",
    "                print(url)\n",
    "                urls.append(url)\n",
    "            else:\n",
    "                break\n",
    "    urls=pd.Series(urls)\n",
    "    global csv_name\n",
    "    if image_tag == True:\n",
    "        csv_name = \"recent_urls.csv\"\n",
    "    else:\n",
    "        csv_name = image_tag+\"_urls.csv\"\n",
    "    urls.to_csv(csv_name)\n",
    "    \n",
    "    urls=[]\n",
    "    with open(csv_name,newline=\"\") as csvfile:\n",
    "        doc=csv.reader(csvfile,delimiter=\",\")\n",
    "        for row in doc:\n",
    "            if row[1].startswith(\"https\"):\n",
    "                urls.append(row[1])\n",
    "    if not os.path.isdir(os.path.join(os.getcwd(),csv_name.split(\"_\")[0])):\n",
    "        os.mkdir(csv_name.split(\"_\")[0])\n",
    "    for url in enumerate(urls):\n",
    "        try:\n",
    "            resp=requests.get(url[1],stream=True)\n",
    "            path_to_write=os.path.join(os.getcwd(),csv_name.split(\"_\")[0],url[1].split(\"/\")[-1])\n",
    "            outfile=open(path_to_write,'wb')\n",
    "            outfile.write(resp.content)\n",
    "            outfile.close()\n",
    "            print(\"Done downloading {} of {}\".format(url[0]+1,len(urls)))\n",
    "        except:\n",
    "            print(\"Failed to download url number {}\".format(url[0]))\n",
    "    \n"
   ]
  },
  {
   "cell_type": "code",
   "execution_count": 4,
   "metadata": {},
   "outputs": [
    {
     "name": "stdout",
     "output_type": "stream",
     "text": [
      "Fetching url for image number 1\n",
      "https://live.staticflickr.com/5054/5532408016_49dab99785_o.jpg\n",
      "Fetching url for image number 2\n",
      "https://live.staticflickr.com/7204/7081202661_fc74ea8f51_o.jpg\n",
      "Fetching url for image number 3\n",
      "https://live.staticflickr.com/3642/5792704947_9a654fcd7c_o.jpg\n",
      "Fetching url for image number 4\n",
      "https://live.staticflickr.com/4104/5096339890_10e4427f9f_o.jpg\n",
      "Fetching url for image number 5\n",
      "https://live.staticflickr.com/5012/5482398740_35eb1902e7_o.jpg\n",
      "Fetching url for image number 6\n",
      "https://live.staticflickr.com/4122/4751841969_f50007ed2c_o.jpg\n",
      "Fetching url for image number 7\n",
      "https://live.staticflickr.com/3132/3107626997_c004ac3e26_o.jpg\n",
      "Fetching url for image number 8\n",
      "https://live.staticflickr.com/4113/5000948053_60bac8e512_o.jpg\n",
      "Fetching url for image number 9\n",
      "https://live.staticflickr.com/8361/8329301149_9c35df1096_o.jpg\n",
      "Fetching url for image number 10\n",
      "https://live.staticflickr.com/2365/1571650156_c24fa4d108_o.jpg\n",
      "Fetching url for image number 11\n",
      "https://live.staticflickr.com/8104/8565509941_392aa52225_o.jpg\n",
      "Fetching url for image number 12\n",
      "https://live.staticflickr.com/3725/9479839375_7340192ab2_o.jpg\n",
      "Fetching url for image number 13\n",
      "https://live.staticflickr.com/3008/2822768600_fe6a83032f_o.jpg\n",
      "Fetching url for image number 14\n",
      "https://live.staticflickr.com/3500/3849679753_3b367c4a9b_o.jpg\n",
      "Fetching url for image number 15\n",
      "https://live.staticflickr.com/2459/3589413829_dcf384ce46_o.jpg\n",
      "Fetching url for image number 16\n",
      "https://live.staticflickr.com/2181/1570774701_76c43266bf_o.jpg\n",
      "Fetching url for image number 17\n",
      "https://live.staticflickr.com/4133/5065009200_c657e8a620_o.jpg\n",
      "Fetching url for image number 18\n",
      "https://live.staticflickr.com/2203/2160904729_6c1f07efa2_o.jpg\n",
      "Fetching url for image number 19\n",
      "https://live.staticflickr.com/4079/4751844831_174557a58f_o.jpg\n",
      "Fetching url for image number 20\n",
      "None\n",
      "Fetching url for image number 21\n",
      "https://live.staticflickr.com/6222/6274124182_21007f3458_o.jpg\n",
      "Fetching url for image number 22\n",
      "None\n",
      "Fetching url for image number 23\n",
      "https://live.staticflickr.com/3849/14638672686_94882dd765_o.jpg\n",
      "Fetching url for image number 24\n",
      "https://live.staticflickr.com/2461/3952442988_d8d0fd539d_o.jpg\n",
      "Fetching url for image number 25\n",
      "https://live.staticflickr.com/2939/14661292542_c94f84c144_o.jpg\n"
     ]
    },
    {
     "name": "stderr",
     "output_type": "stream",
     "text": [
      "C:\\Users\\Mati\\Anaconda3\\lib\\site-packages\\ipykernel_launcher.py:37: FutureWarning: The signature of `Series.to_csv` was aligned to that of `DataFrame.to_csv`, and argument 'header' will change its default value from False to True: please pass an explicit value to suppress this warning.\n"
     ]
    },
    {
     "name": "stdout",
     "output_type": "stream",
     "text": [
      "Done downloading 1 of 23\n",
      "Done downloading 2 of 23\n",
      "Done downloading 3 of 23\n",
      "Done downloading 4 of 23\n",
      "Done downloading 5 of 23\n",
      "Done downloading 6 of 23\n",
      "Done downloading 7 of 23\n",
      "Done downloading 8 of 23\n",
      "Done downloading 9 of 23\n",
      "Done downloading 10 of 23\n",
      "Done downloading 11 of 23\n",
      "Done downloading 12 of 23\n",
      "Done downloading 13 of 23\n",
      "Done downloading 14 of 23\n",
      "Done downloading 15 of 23\n",
      "Done downloading 16 of 23\n",
      "Done downloading 17 of 23\n",
      "Done downloading 18 of 23\n",
      "Done downloading 19 of 23\n",
      "Done downloading 20 of 23\n",
      "Done downloading 21 of 23\n",
      "Done downloading 22 of 23\n",
      "Done downloading 23 of 23\n"
     ]
    }
   ],
   "source": [
    "download_photos('home',25)"
   ]
  },
  {
   "cell_type": "code",
   "execution_count": null,
   "metadata": {},
   "outputs": [],
   "source": []
  }
 ],
 "metadata": {
  "kernelspec": {
   "display_name": "Python 3",
   "language": "python",
   "name": "python3"
  },
  "language_info": {
   "codemirror_mode": {
    "name": "ipython",
    "version": 3
   },
   "file_extension": ".py",
   "mimetype": "text/x-python",
   "name": "python",
   "nbconvert_exporter": "python",
   "pygments_lexer": "ipython3",
   "version": "3.7.3"
  }
 },
 "nbformat": 4,
 "nbformat_minor": 2
}
